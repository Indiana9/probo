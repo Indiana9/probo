{
 "cells": [
  {
   "cell_type": "markdown",
   "metadata": {},
   "source": [
    "## Final Project for FIN 5350\n",
    "\n",
    "\n",
    "#### Austin Gorge and Aaron Austin\n",
    "\n",
    "\n",
    "In this project I am pricing arithmetic Asian call and put options with the Probo Python module. "
   ]
  },
  {
   "cell_type": "code",
   "execution_count": 7,
   "metadata": {},
   "outputs": [
    {
     "ename": "SyntaxError",
     "evalue": "invalid syntax (engine.py, line 213)",
     "output_type": "error",
     "traceback": [
      "Traceback \u001b[1;36m(most recent call last)\u001b[0m:\n",
      "  File \u001b[0;32m\"C:\\Users\\Austin\\Anaconda3\\lib\\site-packages\\IPython\\core\\interactiveshell.py\"\u001b[0m, line \u001b[0;32m2963\u001b[0m, in \u001b[0;35mrun_code\u001b[0m\n    exec(code_obj, self.user_global_ns, self.user_ns)\n",
      "  File \u001b[0;32m\"<ipython-input-7-4b9eaede7ebc>\"\u001b[0m, line \u001b[0;32m1\u001b[0m, in \u001b[0;35m<module>\u001b[0m\n    from probo.marketdata import MarketData\n",
      "\u001b[1;36m  File \u001b[1;32m\"C:\\Users\\Austin\\5350\\Probos\\probo\\probo\\__init__.py\"\u001b[1;36m, line \u001b[1;32m3\u001b[1;36m, in \u001b[1;35m<module>\u001b[1;36m\u001b[0m\n\u001b[1;33m    from .engine import *\u001b[0m\n",
      "\u001b[1;36m  File \u001b[1;32m\"C:\\Users\\Austin\\5350\\Probos\\probo\\probo\\engine.py\"\u001b[1;36m, line \u001b[1;32m213\u001b[0m\n\u001b[1;33m    cash_flow_k[j] = option.payoff(cash_flow_t[i]) + beta * convar\u001b[0m\n\u001b[1;37m              ^\u001b[0m\n\u001b[1;31mSyntaxError\u001b[0m\u001b[1;31m:\u001b[0m invalid syntax\n"
     ]
    }
   ],
   "source": [
    "from probo.marketdata import MarketData\n",
    "from probo.payoff import VanillaPayoff, call_payoff, put_payoff \n",
    "from probo.engine import MonteCarloEngine, PathwiseNaiveMonteCarloPricer, ControlVariateAsianPrice, ControlVariatePricer \n",
    "from probo.facade import OptionFacade"
   ]
  },
  {
   "cell_type": "code",
   "execution_count": null,
   "metadata": {},
   "outputs": [],
   "source": [
    "## Set up the market data\n",
    "spot = 41.0\n",
    "rate = 0.08\n",
    "volatility = 0.30\n",
    "dividend = 0.0\n",
    "thedata = MarketData(rate, spot, volatility, dividend)"
   ]
  },
  {
   "cell_type": "code",
   "execution_count": null,
   "metadata": {},
   "outputs": [],
   "source": [
    "## Set up the option\n",
    "expiry = 1.0\n",
    "strike = 40.0\n",
    "thecall = VanillaPayoff(expiry, strike, call_payoff)\n",
    "theput = VanillaPayoff(expiry, strike, put_payoff)"
   ]
  },
  {
   "cell_type": "code",
   "execution_count": null,
   "metadata": {},
   "outputs": [],
   "source": [
    "## Set up Naive Monte Carlo\n",
    "nreps = 100000\n",
    "steps = 1\n",
    "pricer = PathwiseNaiveMonteCarloPricer\n",
    "pricer = ControlVariateAsianPrice\n",
    "pricer = ControlVariatePricer\n",
    "mcengine = MonteCarloEngine(nreps, steps, pricer)"
   ]
  },
  {
   "cell_type": "code",
   "execution_count": null,
   "metadata": {},
   "outputs": [],
   "source": [
    "## Calculate the price\n",
    "option1 = OptionFacade(thecall, mcengine, thedata)\n",
    "price1, se1 = option1.price()\n",
    "print(\"The call price via Naive Monte Carlo is: {0:.3f}\".format(price1))"
   ]
  },
  {
   "cell_type": "code",
   "execution_count": 7,
   "metadata": {},
   "outputs": [
    {
     "name": "stdout",
     "output_type": "stream",
     "text": [
      "The put price via Naive Monte Carlo is: 2.892\n"
     ]
    }
   ],
   "source": [
    "option2 = OptionFacade(theput, mcengine, thedata)\n",
    "price2, se2 = option2.price()\n",
    "print(\"The put price via Naive Monte Carlo is: {0:.3f}\".format(price2))\n"
   ]
  },
  {
   "cell_type": "markdown",
   "metadata": {},
   "source": [
    "## Table \n",
    "\n",
    "The results of our computations are given below: \n",
    "\n",
    "| Option Price | Standard Error |\n",
    "|----------|----------|\n",
    "| 3.24     | 4.56     |\n",
    "| 9.87     | 0.456    |\n",
    "| 9.87     | 0.456    |"
   ]
  },
  {
   "cell_type": "code",
   "execution_count": null,
   "metadata": {},
   "outputs": [],
   "source": []
  }
 ],
 "metadata": {
  "kernelspec": {
   "display_name": "Python 3",
   "language": "python",
   "name": "python3"
  },
  "language_info": {
   "codemirror_mode": {
    "name": "ipython",
    "version": 3
   },
   "file_extension": ".py",
   "mimetype": "text/x-python",
   "name": "python",
   "nbconvert_exporter": "python",
   "pygments_lexer": "ipython3",
   "version": "3.6.5"
  }
 },
 "nbformat": 4,
 "nbformat_minor": 2
}
