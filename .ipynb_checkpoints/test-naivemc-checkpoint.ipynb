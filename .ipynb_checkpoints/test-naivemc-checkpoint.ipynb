{
 "cells": [
  {
   "cell_type": "code",
   "execution_count": 2,
   "metadata": {},
   "outputs": [],
   "source": [
    "from probo.marketdata import MarketData\n",
    "from probo.payoff import VanillaPayoff, call_payoff, put_payoff\n",
    "from probo.engine import MonteCarloEngine, NaiveMonteCarloPricer \n",
    "from probo.facade import OptionFacade"
   ]
  },
  {
   "cell_type": "code",
   "execution_count": 3,
   "metadata": {},
   "outputs": [],
   "source": [
    "## Set up the market data\n",
    "spot = 41.0\n",
    "rate = 0.08\n",
    "volatility = 0.30\n",
    "dividend = 0.0\n",
    "thedata = MarketData(rate, spot, volatility, dividend)"
   ]
  },
  {
   "cell_type": "code",
   "execution_count": 4,
   "metadata": {},
   "outputs": [],
   "source": [
    "## Set up the option\n",
    "expiry = 1.0\n",
    "strike = 40.0\n",
    "thecall = VanillaPayoff(expiry, strike, call_payoff)\n",
    "theput = VanillaPayoff(expiry, strike, put_payoff)"
   ]
  },
  {
   "cell_type": "code",
   "execution_count": 5,
   "metadata": {},
   "outputs": [],
   "source": [
    "## Set up Naive Monte Carlo\n",
    "nreps = 100000\n",
    "steps = 1\n",
    "pricer = NaiveMonteCarloPricer\n",
    "# pricer = ControlVariateAsianPricer\n",
    "mcengine = MonteCarloEngine(nreps, steps, pricer)"
   ]
  },
  {
   "cell_type": "code",
   "execution_count": 6,
   "metadata": {},
   "outputs": [
    {
     "name": "stdout",
     "output_type": "stream",
     "text": [
      "The call price via Naive Monte Carlo is: 6.947\n"
     ]
    }
   ],
   "source": [
    "## Calculate the price\n",
    "option1 = OptionFacade(thecall, mcengine, thedata)\n",
    "price1, se1 = option1.price()\n",
    "print(\"The call price via Naive Monte Carlo is: {0:.3f}\".format(price1))"
   ]
  },
  {
   "cell_type": "code",
   "execution_count": 7,
   "metadata": {},
   "outputs": [
    {
     "name": "stdout",
     "output_type": "stream",
     "text": [
      "The put price via Naive Monte Carlo is: 2.892\n"
     ]
    }
   ],
   "source": [
    "option2 = OptionFacade(theput, mcengine, thedata)\n",
    "price2, se2 = option2.price()\n",
    "print(\"The put price via Naive Monte Carlo is: {0:.3f}\".format(price2))\n"
   ]
  },
  {
   "cell_type": "markdown",
   "metadata": {},
   "source": [
    "## Table \n",
    "\n",
    "The results of our computations are given below: \n",
    "\n",
    "| Header 1 | Header 2 |\n",
    "|----------|----------|\n",
    "| 3.24     | 4.56     |"
   ]
  },
  {
   "cell_type": "code",
   "execution_count": null,
   "metadata": {},
   "outputs": [],
   "source": []
  }
 ],
 "metadata": {
  "kernelspec": {
   "display_name": "Python 3",
   "language": "python",
   "name": "python3"
  },
  "language_info": {
   "codemirror_mode": {
    "name": "ipython",
    "version": 3
   },
   "file_extension": ".py",
   "mimetype": "text/x-python",
   "name": "python",
   "nbconvert_exporter": "python",
   "pygments_lexer": "ipython3",
   "version": "3.6.6"
  }
 },
 "nbformat": 4,
 "nbformat_minor": 2
}
